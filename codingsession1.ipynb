{
 "cells": [
  {
   "cell_type": "markdown",
   "metadata": {},
   "source": [
    "Question 1:\n",
    "Create a program that reads two integers, **a** and *b*, from the user. Your program should compute and display:\n",
    "    1. The sum of **a** and **b.**\n",
    "    2. The difference when **b** is subtracted from *a*\n",
    "    3. The product of **a** and *b*\n",
    "    4. The quotient when **a** is divided by *b*\n",
    "    5. The remainder when **a** is divided by *b*\n",
    "    6. The result of $log_{10}a$\n",
    "    7. The result of"
   ]
  },
  {
   "cell_type": "code",
   "execution_count": null,
   "metadata": {},
   "outputs": [],
   "source": [
    "import math # import module for log\n",
    "\n",
    "#collect input from user a and b \n",
    "a = input(\"input a number: \")\n",
    "b = input(\"input a number: \")\n",
    "\n",
    "# convert to integer \n",
    "a = int(a)\n",
    "b = int(b)\n",
    "\n",
    "sum_numbers = a + b\n",
    "print(sum_numbers)\n",
    "\n",
    "dif_numbers = a - b \n",
    "print(dif_numbers)\n",
    "\n",
    "prod_numbers = a * b\n",
    "print(prod_numbers)\n",
    "\n",
    "q_numbers = a // b\n",
    "print(q_numbers)\n",
    "\n",
    "rem_numbers = a % b\n",
    "print(rem_numbers)\n",
    "\n",
    "log_numbers = math.log10(a)\n",
    "print(log_numbers)\n",
    "\n",
    "exp_numbers = a ** b\n",
    "print(exp_numbers)"
   ]
  },
  {
   "cell_type": "markdown",
   "metadata": {},
   "source": [
    "Question 2:\n",
    "In the US, fuel efficiency for vehicles is normally expressed in miles-per-gallon (MPG). In Canada, fuel efficiency is normally expressed in liters-per-hundred-kilometers (L/100 km). Use your research skills to determine how to convert from MPG to L/100 km. Then create a program that reads a value from the user (in American units) and displays the equivalent fuel efficiency in Canadian units."
   ]
  },
  {
   "cell_type": "code",
   "execution_count": null,
   "metadata": {},
   "outputs": [],
   "source": [
    "user_input_mgp = float(input(\"Enter fuel efficiency expressed in miles-per-gallon\"))\n",
    "\n",
    "conversion = 235.21/user_input_mgp\n",
    "print(\"Fuel efficiency in Canadian units is\", conversion, \"L/100\")"
   ]
  },
  {
   "cell_type": "markdown",
   "metadata": {},
   "source": [
    "Question 3:\n",
    "The surface of the earth is curved, and the distance between degrees of longitude varies with latitude. As a result, finding the distance between two points on the surface of the earth is more complicated than simply using the Pythagorean theorem. The equation for finding the distance between two points on the surface of the earth in kilometers is given by:\n",
    "    \n",
    "    $distance = 6371.01 \\times arccos(sin(lat_1) \\times sin(lat_2)+cos(lat_1)\\times cos(lat_2)\\times cos(long_1-long_2))$\n",
    "    \n",
    "    where: $(lat_1, long_1)$ and $(lat_2,long_2)$  are the latitude and longitude of two points on the Earth’s surface.\n",
    "    \n",
    "Create a program that allows the user to enter the latitude and longitude of two points on the Earth in degrees. Your program should display the distance between the points in kilometers."
   ]
  },
  {
   "cell_type": "code",
   "execution_count": null,
   "metadata": {},
   "outputs": [],
   "source": [
    "import math\n",
    "\n",
    "# lat_sydney, long_sydney = -33.8688, 151.2093\n",
    "# lat_stockholm, long_stockholm = 59.3293, 18.0686\n",
    "\n",
    "current_country = input(\"Enter your current country:\")\n",
    "lat1 = math.radians(float(input(\"Enter your lat1: \")))\n",
    "long1 = math.radians(float(input(\"Enter your long1: \")))\n",
    "\n",
    "destination_country = input(\"Enter destination country:\")\n",
    "lat2 = math.radians(float(input(\"Enter your lat2: \")))\n",
    "long2 = math.radians(float(input(\"Enter your long2: \")))\n",
    "\n",
    "distance=6371.01*math.acos(math.sin(lat1)*math.sin(lat2)+math.cos(lat1)*math.cos(lat2)*math.cos(long1-long2))\n",
    "\n",
    "print(f\"The distance between {current_country} and {destination_country} is {distance} km\")"
   ]
  },
  {
   "cell_type": "markdown",
   "metadata": {},
   "source": [
    "Question 4:\n",
    "Distance units: Create a program that begins by reading a measurement from the user in feet. Then your program should display the equivalent distance in inches, yards and miles. Use your research skills to look up the necessary conversion factors.\n",
    "    \n",
    "Hint: Use the `input()` function, but add a little spice to it, by displaying a prompt for the user to understand they are inputting a value in feet."
   ]
  },
  {
   "cell_type": "code",
   "execution_count": null,
   "metadata": {},
   "outputs": [],
   "source": [
    "user_feet = float(input(\"Input measurement in feet:\"))\n",
    "user_inches = user_feet * 12 \n",
    "user_yards = user_feet / 3\n",
    "user_miles = user_feet /5280\n",
    "\n",
    "\n",
    "print(f\"{user_feet} feet is {user_inches} inches\")\n",
    "print(f\"{user_feet} feet is {user_yards} yards\")\n",
    "print(f\"{user_feet} feet is {user_miles} miles\")\n"
   ]
  },
  {
   "cell_type": "markdown",
   "metadata": {},
   "source": [
    "Question 5:\n",
    "Area of a regular polygon: A polygon is regular if its sides are all the same length and the angles between all of the adjacent sides are equal. The area of a regular polygon can be computed using the following formula, where ***s*** is the length of a side and ***n*** is the number of sides.\n",
    "    \n",
    "    $\\boxed{area = \\frac {n \\times s^2} {4 \\times \\tan (\\frac{\\pi}{n})} }$\n",
    "    \n",
    "Write a program that reads ***s*** and ***n*** from the user and then displays the area of a regular polygon constructed from these values."
   ]
  },
  {
   "cell_type": "code",
   "execution_count": null,
   "metadata": {},
   "outputs": [],
   "source": [
    "import math\n",
    "number_of_sides = int(input(\"Enter number of sides:\"))\n",
    "len_of_sides = float(input(\"Enter the length of the sides:\"))\n",
    "\n",
    "area = number_of_sides * len_of_sides ** 2 / 4 * math.tan(math.pi/number_of_sides)\n",
    "\n",
    "print(area)\n"
   ]
  },
  {
   "cell_type": "markdown",
   "metadata": {},
   "source": [
    "Question 6: Current Time\n",
    "Python has a couple of modules that can be used when working with time. This includes a module called time and a function/method within the time module called asctime. It reads the current time from the computer’s internal clock and returns it in a human-readable format. Write a program that displays the current time and date. Your program will not require any input from the user."
   ]
  },
  {
   "cell_type": "code",
   "execution_count": null,
   "metadata": {},
   "outputs": [],
   "source": [
    "import time\n",
    "\n",
    "t = time.localtime()\n",
    "print (time.asctime(t))"
   ]
  },
  {
   "cell_type": "markdown",
   "metadata": {},
   "source": [
    "Question 7:\n",
    "Wind Chill Index: When the wind blows in cold weather, the air feels even colder that it actually is because the movement of the air increases the rate of cooling for warm objects, like people. This effect is known as wind chill.\n",
    "    \n",
    "The formula below is used to compute the wind chill index. \n",
    "    \n",
    "$WCI = 13.12 + 0.6215T_a - 11.37V^{0.16}+0.3965T_aV^{0.16}$\n",
    "    \n",
    "Where: $T_a$ is the air temperature in degrees Celsius and $V$ is the wind speed in kilometers per hour. Write a program that begins by reading the air temperature and wind speed from the user. Once these values have been read, your program should display the wind chill index rounded to the closes integer.\n",
    "    \n",
    "Hint: Use the `round()` python inbuilt function to round values to a determinate number of decimal places.*"
   ]
  },
  {
   "cell_type": "code",
   "execution_count": null,
   "metadata": {},
   "outputs": [],
   "source": [
    "air_temp = float(input(\"Enter todays temperature in Celsius: \"))\n",
    "wind_speed = float(input(\"Enter wind speed in km/h\"))\n",
    "\n",
    "\n",
    "wind_chill_index = round(13.12 + (0.6215*air_temp) - (11.37*wind_speed**0.16) + (0.3965*air_temp*wind_speed**0.16),)\n",
    "print(f\"The wind chill index is:\", wind_chill_index)"
   ]
  },
  {
   "cell_type": "markdown",
   "metadata": {},
   "source": [
    "Question 8. TEASER/BONUS QUESTION\n",
    "Sum of digits in an integer: Develop a program that reads a four digit integer from the user and displays the sum of the digits in the number. For example, if the user enters 3141 then your program should display the result of the sum $3+1+4+1=9$.\n",
    "    \n",
    "Hint: Type conversion, string split operation, python sum operation."
   ]
  },
  {
   "cell_type": "code",
   "execution_count": null,
   "metadata": {},
   "outputs": [],
   "source": [
    "num = (input(\"Enter a four-digit number\"))\n",
    "\n",
    "sumint = int(num[0]) + int(num[1]) + int(num[2]) + int(num[3])\n",
    "print(\"The sum of the digits of the provided number is \" + str(sumint))"
   ]
  }
 ],
 "metadata": {
  "kernelspec": {
   "display_name": "Python 3.10.6 64-bit",
   "language": "python",
   "name": "python3"
  },
  "language_info": {
   "codemirror_mode": {
    "name": "ipython",
    "version": 3
   },
   "file_extension": ".py",
   "mimetype": "text/x-python",
   "name": "python",
   "nbconvert_exporter": "python",
   "pygments_lexer": "ipython3",
   "version": "3.10.6"
  },
  "orig_nbformat": 4,
  "vscode": {
   "interpreter": {
    "hash": "aee8b7b246df8f9039afb4144a1f6fd8d2ca17a180786b69acc140d282b71a49"
   }
  }
 },
 "nbformat": 4,
 "nbformat_minor": 2
}
